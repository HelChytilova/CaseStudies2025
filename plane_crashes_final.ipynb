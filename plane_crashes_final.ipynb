{
 "cells": [
  {
   "cell_type": "code",
   "execution_count": 219,
   "id": "c328184b",
   "metadata": {},
   "outputs": [],
   "source": [
    "import pandas as pd\n",
    "pd.set_option('display.precision', 10)\n",
    "import numpy as np\n",
    "np.set_printoptions(precision=10)\n",
    "df_crashes=pd.read_csv(\"Airplane_crashes.csv\", delimiter=';')"
   ]
  },
  {
   "cell_type": "code",
   "execution_count": null,
   "id": "bc253b6a",
   "metadata": {},
   "outputs": [],
   "source": [
    "# adjusting date columns to correct data format\n",
    "df_crashes[\"Date\"]=pd.to_datetime(df_crashes[\"Date\"],dayfirst=True)\n",
    "df_crashes[\"Time\"]=df_crashes[\"Time\"].str.extract(r'(\\d{1,2}:\\d{2})')[0]\n",
    "df_crashes[\"Time\"]=pd.to_datetime(df_crashes[\"Time\"],format='%H:%M', errors='coerce').dt.time\n",
    "\n",
    "# selecting rows where num of Aboard>0 \n",
    "df_crashes = df_crashes[df_crashes['Aboard'] > 0]\n",
    "# selecting rows where Aboard and Fatalities is not null\n",
    "df_crashes = df_crashes.dropna(subset=['Aboard', 'Fatalities'])\n",
    "df_crashes.reset_index(drop=True)\n",
    "\n"
   ]
  },
  {
   "cell_type": "code",
   "execution_count": 221,
   "id": "cc9e8bae",
   "metadata": {},
   "outputs": [],
   "source": [
    "# Adding of additonal date columns a for further calculation\n",
    "df_crashes[\"Month\"] = df_crashes[\"Date\"].dt.month\n",
    "df_crashes[\"Year\"] = df_crashes[\"Date\"].dt.year\n",
    "df_crashes['Weekday'] = df_crashes['Date'].dt.day_name() "
   ]
  },
  {
   "cell_type": "code",
   "execution_count": 222,
   "id": "b6963141",
   "metadata": {},
   "outputs": [],
   "source": [
    "# Adding of additonal columns with fatality and survival rate\n",
    "df_crashes[\"Fatality_Rate\"] = df_crashes[\"Fatalities\"] / df_crashes[\"Aboard\"]\n",
    "df_crashes[\"Survival_Rate\"] = 1 - df_crashes[\"Fatality_Rate\"]"
   ]
  },
  {
   "cell_type": "code",
   "execution_count": 223,
   "id": "4339f72c",
   "metadata": {},
   "outputs": [],
   "source": [
    "# Adding of column Category that defines a severity of an accident (Calculation based on quantiles of survival rate)\n",
    "q_low = df_crashes['Survival_Rate'].quantile(0.25)\n",
    "q_high = df_crashes['Survival_Rate'].quantile(0.75)\n",
    "\n",
    "df_crashes['Category'] = df_crashes['Survival_Rate'].apply(\n",
    "    lambda x: 'High Survival' if x >= q_high else ('High Fatality' if x <= q_low else 'Moderate')\n",
    ")\n"
   ]
  },
  {
   "cell_type": "code",
   "execution_count": null,
   "id": "732473dc",
   "metadata": {},
   "outputs": [],
   "source": [
    "# Adding of a column Impact Category that defines a severity of an accident (Calculation based on of survival rate and a number of fatalities)\n",
    "def classify_impact(row):\n",
    "    if row['Fatalities'] >= 100 and row['Survival_Rate'] < 0.1:\n",
    "        return 'Mass Fatality'\n",
    "    elif row['Fatalities'] >= 30 and row['Survival_Rate'] < 0.2:\n",
    "        return 'Severe Crash'\n",
    "    elif row['Fatalities'] > 0 and row['Survival_Rate'] >= 0.8:\n",
    "        return 'Minor Fatality'\n",
    "    elif row['Fatalities'] == 0:\n",
    "        return 'All Survived'\n",
    "    else:\n",
    "        return 'Moderate Impact'\n",
    "\n",
    "df_crashes['Impact_Category'] = df_crashes.apply(classify_impact, axis=1)\n",
    "df_crashes.reset_index(drop=True)"
   ]
  },
  {
   "cell_type": "code",
   "execution_count": 225,
   "id": "a0df3bb2",
   "metadata": {},
   "outputs": [],
   "source": [
    "# Creation of of a new dataset with aggregated data by Year of an accident\n",
    "annual = df_crashes.groupby('Year').agg({\n",
    "    'Date': 'count',  # number of accidents\n",
    "    'Aboard': 'sum',\n",
    "    'Fatalities': 'sum'\n",
    "}).rename(columns={'Date': 'Num_Accidents'})\n",
    "annual['Fatality_Rate'] = annual['Fatalities'] / annual['Aboard']\n",
    "annual['Survival_Rate'] = 1 - annual['Fatality_Rate']\n"
   ]
  },
  {
   "cell_type": "code",
   "execution_count": null,
   "id": "1a9b9e61",
   "metadata": {},
   "outputs": [],
   "source": [
    "# Adding of a new column Accidents_Rolling with calculated 5-year rolling average\n",
    "annual['Accidents_Rolling'] = annual['Num_Accidents'].rolling(window=5).mean()\n",
    "\n",
    "# Adding of a new column Change with year-to-year difference in the number of accidents\n",
    "annual['Change'] = annual['Num_Accidents'].diff()\n",
    "\n",
    "# Adding of a new column Change_Z with Z-score calculation of the column Change (how far a value is from the mean, in terms of standard deviations)\n",
    "annual['Change_Z'] = (annual['Change'] - annual['Change'].mean()) / annual['Change'].std()\n",
    "\n",
    "# Adding of a new column Num_Accidents_Z with Z-score calculation of the column Num_Accidents (how far a value is from the mean, in terms of standard deviations)\n",
    "annual['Num_Accidents_Z']=(annual['Num_Accidents'] - annual['Num_Accidents'].mean()) / annual['Num_Accidents'].std()\n",
    "\n",
    "annual.reset_index()\n",
    "\n",
    "\n"
   ]
  },
  {
   "cell_type": "code",
   "execution_count": 227,
   "id": "17d5e4b1",
   "metadata": {},
   "outputs": [],
   "source": [
    "df_crashes.to_csv('crashes.csv')\n",
    "annual.to_csv('annual.csv')"
   ]
  }
 ],
 "metadata": {
  "kernelspec": {
   "display_name": "Python (Pyenv1)",
   "language": "python",
   "name": "pyenv1"
  },
  "language_info": {
   "codemirror_mode": {
    "name": "ipython",
    "version": 3
   },
   "file_extension": ".py",
   "mimetype": "text/x-python",
   "name": "python",
   "nbconvert_exporter": "python",
   "pygments_lexer": "ipython3",
   "version": "3.13.3"
  }
 },
 "nbformat": 4,
 "nbformat_minor": 5
}
