{
 "cells": [
  {
   "cell_type": "code",
   "execution_count": 14,
   "id": "c328184b",
   "metadata": {},
   "outputs": [],
   "source": [
    "import pandas as pd\n",
    "pd.set_option('display.precision', 10)\n",
    "import numpy as np\n",
    "np.set_printoptions(precision=10)\n",
    "df_crashes=pd.read_csv(\"Airplane_crashes.csv\", delimiter=';')"
   ]
  },
  {
   "cell_type": "code",
   "execution_count": null,
   "id": "bc253b6a",
   "metadata": {},
   "outputs": [],
   "source": [
    "df_crashes[\"Date\"]=pd.to_datetime(df_crashes[\"Date\"],dayfirst=True)\n",
    "df_crashes[\"Time\"]=df_crashes[\"Time\"].str.extract(r'(\\d{1,2}:\\d{2})')[0]\n",
    "df_crashes[\"Time\"]=pd.to_datetime(df_crashes[\"Time\"],format='%H:%M', errors='coerce').dt.time\n",
    "df_crashes = df_crashes[df_crashes['Aboard'] > 0]\n",
    "df_crashes = df_crashes.dropna(subset=['Aboard', 'Fatalities'])\n",
    "df_crashes.reset_index(drop=True)\n"
   ]
  },
  {
   "cell_type": "code",
   "execution_count": 16,
   "id": "cc9e8bae",
   "metadata": {},
   "outputs": [],
   "source": [
    "df_crashes[\"Month\"] = df_crashes[\"Date\"].dt.month\n",
    "df_crashes[\"Year\"] = df_crashes[\"Date\"].dt.year\n",
    "df_crashes['Weekday'] = df_crashes['Date'].dt.day_name() "
   ]
  },
  {
   "cell_type": "code",
   "execution_count": 17,
   "id": "b6963141",
   "metadata": {},
   "outputs": [],
   "source": [
    "df_crashes[\"Fatality_Rate\"] = df_crashes[\"Fatalities\"] / df_crashes[\"Aboard\"]\n",
    "df_crashes[\"Survival_Rate\"] = 1 - df_crashes[\"Fatality_Rate\"]"
   ]
  },
  {
   "cell_type": "code",
   "execution_count": 18,
   "id": "4339f72c",
   "metadata": {},
   "outputs": [],
   "source": [
    "q_low = df_crashes['Survival_Rate'].quantile(0.25)\n",
    "q_high = df_crashes['Survival_Rate'].quantile(0.75)\n",
    "\n",
    "df_crashes['Category'] = df_crashes['Survival_Rate'].apply(\n",
    "    lambda x: 'High Survival' if x >= q_high else ('High Fatality' if x <= q_low else 'Moderate')\n",
    ")\n"
   ]
  },
  {
   "cell_type": "code",
   "execution_count": 19,
   "id": "732473dc",
   "metadata": {},
   "outputs": [],
   "source": [
    "def classify_impact(row):\n",
    "    if row['Fatalities'] >= 100 and row['Survival_Rate'] < 0.1:\n",
    "        return 'Mass Fatality'\n",
    "    elif row['Fatalities'] >= 30 and row['Survival_Rate'] < 0.2:\n",
    "        return 'Severe Crash'\n",
    "    elif row['Fatalities'] > 0 and row['Survival_Rate'] >= 0.8:\n",
    "        return 'Minor Fatality'\n",
    "    elif row['Fatalities'] == 0:\n",
    "        return 'All Survived'\n",
    "    else:\n",
    "        return 'Moderate Impact'\n",
    "\n",
    "df_crashes['Impact_Category'] = df_crashes.apply(classify_impact, axis=1)"
   ]
  },
  {
   "cell_type": "code",
   "execution_count": 20,
   "id": "a0df3bb2",
   "metadata": {},
   "outputs": [],
   "source": [
    "annual = df_crashes.groupby('Year').agg({\n",
    "    'Date': 'count',  # number of accidents\n",
    "    'Aboard': 'sum',\n",
    "    'Fatalities': 'sum'\n",
    "}).rename(columns={'Date': 'Num_Accidents'})\n",
    "annual['Fatality_Rate'] = annual['Fatalities'] / annual['Aboard']\n",
    "annual['Survival_Rate'] = 1 - annual['Fatality_Rate']"
   ]
  },
  {
   "cell_type": "code",
   "execution_count": 21,
   "id": "1a9b9e61",
   "metadata": {},
   "outputs": [],
   "source": [
    "annual['Accidents_Rolling'] = annual['Num_Accidents'].rolling(window=5).mean()\n",
    "annual['Change'] = annual['Num_Accidents'].diff()\n",
    "annual['Change_Z'] = (annual['Change'] - annual['Change'].mean()) / annual['Change'].std()\n",
    "annual['Num_Accidents_Z']=(annual['Num_Accidents'] - annual['Num_Accidents'].mean()) / annual['Num_Accidents'].std()"
   ]
  },
  {
   "cell_type": "code",
   "execution_count": 22,
   "id": "17d5e4b1",
   "metadata": {},
   "outputs": [],
   "source": [
    "df_crashes.to_csv('crashes.csv')\n",
    "annual.to_csv('annual.csv')"
   ]
  }
 ],
 "metadata": {
  "kernelspec": {
   "display_name": "Python (Pyenv1)",
   "language": "python",
   "name": "pyenv1"
  },
  "language_info": {
   "codemirror_mode": {
    "name": "ipython",
    "version": 3
   },
   "file_extension": ".py",
   "mimetype": "text/x-python",
   "name": "python",
   "nbconvert_exporter": "python",
   "pygments_lexer": "ipython3",
   "version": "3.13.3"
  }
 },
 "nbformat": 4,
 "nbformat_minor": 5
}
